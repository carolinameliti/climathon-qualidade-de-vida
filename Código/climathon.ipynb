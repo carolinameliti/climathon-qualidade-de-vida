{
 "cells": [
  {
   "cell_type": "code",
   "execution_count": 1,
   "metadata": {},
   "outputs": [],
   "source": [
    "import pandas as pd \n",
    "import matplotlib.pyplot as plt\n",
    "import seaborn as sns "
   ]
  },
  {
   "cell_type": "code",
   "execution_count": 2,
   "metadata": {},
   "outputs": [
    {
     "data": {
      "text/html": [
       "<div>\n",
       "<style scoped>\n",
       "    .dataframe tbody tr th:only-of-type {\n",
       "        vertical-align: middle;\n",
       "    }\n",
       "\n",
       "    .dataframe tbody tr th {\n",
       "        vertical-align: top;\n",
       "    }\n",
       "\n",
       "    .dataframe thead th {\n",
       "        text-align: right;\n",
       "    }\n",
       "</style>\n",
       "<table border=\"1\" class=\"dataframe\">\n",
       "  <thead>\n",
       "    <tr style=\"text-align: right;\">\n",
       "      <th></th>\n",
       "      <th>ID</th>\n",
       "      <th>Região</th>\n",
       "      <th>Renda Familiar Mensal (R$)</th>\n",
       "      <th>Nível de Escolaridade</th>\n",
       "      <th>Desemprego</th>\n",
       "      <th>Condições de Moradia</th>\n",
       "      <th>Acesso a Saúde (Atenção Básica)</th>\n",
       "      <th>Indicador de Saúde Mental</th>\n",
       "    </tr>\n",
       "  </thead>\n",
       "  <tbody>\n",
       "    <tr>\n",
       "      <th>0</th>\n",
       "      <td>1</td>\n",
       "      <td>Periferia</td>\n",
       "      <td>2738</td>\n",
       "      <td>Superior</td>\n",
       "      <td>Sim</td>\n",
       "      <td>Regular</td>\n",
       "      <td>Regular</td>\n",
       "      <td>4.05</td>\n",
       "    </tr>\n",
       "    <tr>\n",
       "      <th>1</th>\n",
       "      <td>2</td>\n",
       "      <td>Zona Rural</td>\n",
       "      <td>2171</td>\n",
       "      <td>Ensino Médio</td>\n",
       "      <td>Sim</td>\n",
       "      <td>Precária</td>\n",
       "      <td>Alto</td>\n",
       "      <td>3.69</td>\n",
       "    </tr>\n",
       "    <tr>\n",
       "      <th>2</th>\n",
       "      <td>3</td>\n",
       "      <td>Periferia</td>\n",
       "      <td>1884</td>\n",
       "      <td>Superior</td>\n",
       "      <td>Não</td>\n",
       "      <td>Regular</td>\n",
       "      <td>Baixo</td>\n",
       "      <td>8.53</td>\n",
       "    </tr>\n",
       "    <tr>\n",
       "      <th>3</th>\n",
       "      <td>4</td>\n",
       "      <td>Periferia</td>\n",
       "      <td>1699</td>\n",
       "      <td>Superior</td>\n",
       "      <td>Sim</td>\n",
       "      <td>Regular</td>\n",
       "      <td>Baixo</td>\n",
       "      <td>5.81</td>\n",
       "    </tr>\n",
       "    <tr>\n",
       "      <th>4</th>\n",
       "      <td>5</td>\n",
       "      <td>Centro</td>\n",
       "      <td>521</td>\n",
       "      <td>Ensino Fundamental</td>\n",
       "      <td>Sim</td>\n",
       "      <td>Boa</td>\n",
       "      <td>Baixo</td>\n",
       "      <td>2.48</td>\n",
       "    </tr>\n",
       "  </tbody>\n",
       "</table>\n",
       "</div>"
      ],
      "text/plain": [
       "   ID      Região  Renda Familiar Mensal (R$) Nível de Escolaridade  \\\n",
       "0   1   Periferia                        2738              Superior   \n",
       "1   2  Zona Rural                        2171          Ensino Médio   \n",
       "2   3   Periferia                        1884              Superior   \n",
       "3   4   Periferia                        1699              Superior   \n",
       "4   5      Centro                         521    Ensino Fundamental   \n",
       "\n",
       "  Desemprego Condições de Moradia Acesso a Saúde (Atenção Básica)  \\\n",
       "0        Sim              Regular                         Regular   \n",
       "1        Sim             Precária                            Alto   \n",
       "2        Não              Regular                           Baixo   \n",
       "3        Sim              Regular                           Baixo   \n",
       "4        Sim                  Boa                           Baixo   \n",
       "\n",
       "   Indicador de Saúde Mental  \n",
       "0                       4.05  \n",
       "1                       3.69  \n",
       "2                       8.53  \n",
       "3                       5.81  \n",
       "4                       2.48  "
      ]
     },
     "execution_count": 2,
     "metadata": {},
     "output_type": "execute_result"
    }
   ],
   "source": [
    "df = pd.read_csv(r'C:\\Users\\Ana Carolina Meliti\\Downloads\\dados_socioeconomicos_saude_mental.csv')\n",
    "df.head()"
   ]
  },
  {
   "cell_type": "code",
   "execution_count": 3,
   "metadata": {},
   "outputs": [
    {
     "data": {
      "text/plain": [
       "(50, 8)"
      ]
     },
     "execution_count": 3,
     "metadata": {},
     "output_type": "execute_result"
    }
   ],
   "source": [
    "df.shape"
   ]
  },
  {
   "cell_type": "markdown",
   "metadata": {},
   "source": [
    "Em nossa amostra, temos o total de 50 registros de pessoas aleatórias retiradas do IBGE 2023.\n",
    "\n",
    "Estamos trabalhando com um grupo onde 19 pessoas moram no centro, 23 pessoas em área Periferica e 8 em área Rural."
   ]
  },
  {
   "cell_type": "code",
   "execution_count": 27,
   "metadata": {},
   "outputs": [
    {
     "data": {
      "text/plain": [
       "Região\n",
       "Centro        19\n",
       "Periferia     23\n",
       "Zona Rural     8\n",
       "Name: Nível de Escolaridade, dtype: int64"
      ]
     },
     "execution_count": 27,
     "metadata": {},
     "output_type": "execute_result"
    }
   ],
   "source": [
    "regiao = df.groupby(\"Região\")[\"Nível de Escolaridade\"].count()\n",
    "regiao"
   ]
  },
  {
   "cell_type": "code",
   "execution_count": 23,
   "metadata": {},
   "outputs": [
    {
     "data": {
      "image/png": "[encoded data removed]",
      "text/plain": [
       "<Figure size 640x480 with 1 Axes>"
      ]
     },
     "metadata": {},
     "output_type": "display_data"
    }
   ],
   "source": [
    "fig = sns.countplot(data = df, x=\"Região\")"
   ]
  },
  {
   "cell_type": "markdown",
   "metadata": {},
   "source": [
    "Muitos fatores podem fazer com que os níveis de Indicador de Saúde Mental sejam baixos como região onde moramos, acesso à saúde, renda familiar e muito mais.\n",
    "\n",
    "Para entendermos se realmente há diferença entre os níveis de pessoas que moram na periferia para pessoas que moram no centro, decidi analisar esses pontos acima. "
   ]
  },
  {
   "cell_type": "markdown",
   "metadata": {},
   "source": [
    "Analisando estatisticamente nossas variáveis numéricas, temos uma média de Renda Familiar Mensal de R$ 1997.04 e Indicador de Saúde Mental de 4.94. \n",
    "\n",
    "Há uma diferença entre nossos dados quando plotamos os gráficos das variaveis, indicando uma variação grande entre eles."
   ]
  },
  {
   "cell_type": "code",
   "execution_count": 29,
   "metadata": {},
   "outputs": [
    {
     "data": {
      "text/html": [
       "<div>\n",
       "<style scoped>\n",
       "    .dataframe tbody tr th:only-of-type {\n",
       "        vertical-align: middle;\n",
       "    }\n",
       "\n",
       "    .dataframe tbody tr th {\n",
       "        vertical-align: top;\n",
       "    }\n",
       "\n",
       "    .dataframe thead th {\n",
       "        text-align: right;\n",
       "    }\n",
       "</style>\n",
       "<table border=\"1\" class=\"dataframe\">\n",
       "  <thead>\n",
       "    <tr style=\"text-align: right;\">\n",
       "      <th></th>\n",
       "      <th>ID</th>\n",
       "      <th>Renda Familiar Mensal (R$)</th>\n",
       "      <th>Indicador de Saúde Mental</th>\n",
       "    </tr>\n",
       "  </thead>\n",
       "  <tbody>\n",
       "    <tr>\n",
       "      <th>count</th>\n",
       "      <td>50.00000</td>\n",
       "      <td>50.000000</td>\n",
       "      <td>50.000000</td>\n",
       "    </tr>\n",
       "    <tr>\n",
       "      <th>mean</th>\n",
       "      <td>25.50000</td>\n",
       "      <td>1997.040000</td>\n",
       "      <td>4.942200</td>\n",
       "    </tr>\n",
       "    <tr>\n",
       "      <th>std</th>\n",
       "      <td>14.57738</td>\n",
       "      <td>918.757212</td>\n",
       "      <td>2.073403</td>\n",
       "    </tr>\n",
       "    <tr>\n",
       "      <th>min</th>\n",
       "      <td>1.00000</td>\n",
       "      <td>-620.000000</td>\n",
       "      <td>1.000000</td>\n",
       "    </tr>\n",
       "    <tr>\n",
       "      <th>25%</th>\n",
       "      <td>13.25000</td>\n",
       "      <td>1486.000000</td>\n",
       "      <td>3.630000</td>\n",
       "    </tr>\n",
       "    <tr>\n",
       "      <th>50%</th>\n",
       "      <td>25.50000</td>\n",
       "      <td>2025.500000</td>\n",
       "      <td>4.790000</td>\n",
       "    </tr>\n",
       "    <tr>\n",
       "      <th>75%</th>\n",
       "      <td>37.75000</td>\n",
       "      <td>2706.500000</td>\n",
       "      <td>6.285000</td>\n",
       "    </tr>\n",
       "    <tr>\n",
       "      <th>max</th>\n",
       "      <td>50.00000</td>\n",
       "      <td>3565.000000</td>\n",
       "      <td>9.270000</td>\n",
       "    </tr>\n",
       "  </tbody>\n",
       "</table>\n",
       "</div>"
      ],
      "text/plain": [
       "             ID  Renda Familiar Mensal (R$)  Indicador de Saúde Mental\n",
       "count  50.00000                   50.000000                  50.000000\n",
       "mean   25.50000                 1997.040000                   4.942200\n",
       "std    14.57738                  918.757212                   2.073403\n",
       "min     1.00000                 -620.000000                   1.000000\n",
       "25%    13.25000                 1486.000000                   3.630000\n",
       "50%    25.50000                 2025.500000                   4.790000\n",
       "75%    37.75000                 2706.500000                   6.285000\n",
       "max    50.00000                 3565.000000                   9.270000"
      ]
     },
     "execution_count": 29,
     "metadata": {},
     "output_type": "execute_result"
    }
   ],
   "source": [
    "df.describe()"
   ]
  },
  {
   "cell_type": "code",
   "execution_count": 30,
   "metadata": {},
   "outputs": [
    {
     "data": {
      "text/plain": [
       "array([[<Axes: title={'center': 'ID'}>,\n",
       "        <Axes: title={'center': 'Renda Familiar Mensal (R$)'}>],\n",
       "       [<Axes: title={'center': 'Indicador de Saúde Mental'}>, <Axes: >]],\n",
       "      dtype=object)"
      ]
     },
     "execution_count": 30,
     "metadata": {},
     "output_type": "execute_result"
    },
    {
     "data": {
      "image/png": "[encoded data removed]",
      "text/plain": [
       "<Figure size 640x480 with 4 Axes>"
      ]
     },
     "metadata": {},
     "output_type": "display_data"
    }
   ],
   "source": [
    "df.hist()"
   ]
  },
  {
   "cell_type": "markdown",
   "metadata": {},
   "source": [
    "Partindo da minha primeira suposição de que a região afeta diretamente na saúde mental do individuo, decidi fazer a média de indicador de saúde mental e agrupar por região.\n",
    "\n",
    "O que não foi muito útil porque os dados são relativamentes parecidos. "
   ]
  },
  {
   "cell_type": "code",
   "execution_count": 41,
   "metadata": {},
   "outputs": [
    {
     "data": {
      "text/plain": [
       "Região\n",
       "Centro        4.873158\n",
       "Periferia     4.990000\n",
       "Zona Rural    4.968750\n",
       "Name: Indicador de Saúde Mental, dtype: float64"
      ]
     },
     "execution_count": 41,
     "metadata": {},
     "output_type": "execute_result"
    }
   ],
   "source": [
    "saude = df.groupby(\"Região\")[\"Indicador de Saúde Mental\"].mean()\n",
    "saude"
   ]
  },
  {
   "cell_type": "code",
   "execution_count": 40,
   "metadata": {},
   "outputs": [
    {
     "data": {
      "image/png": "[encoded data removed]",
      "text/plain": [
       "<Figure size 640x480 with 1 Axes>"
      ]
     },
     "metadata": {},
     "output_type": "display_data"
    }
   ],
   "source": [
    "fig1 = sns.barplot(data=df, x=\"Região\", y=\"Indicador de Saúde Mental\")"
   ]
  },
  {
   "cell_type": "markdown",
   "metadata": {},
   "source": []
  }
 ],
 "metadata": {
  "kernelspec": {
   "display_name": "Python 3",
   "language": "python",
   "name": "python3"
  },
  "language_info": {
   "codemirror_mode": {
    "name": "ipython",
    "version": 3
   },
   "file_extension": ".py",
   "mimetype": "text/x-python",
   "name": "python",
   "nbconvert_exporter": "python",
   "pygments_lexer": "ipython3",
   "version": "3.11.9"
  },
  "orig_nbformat": 4
 },
 "nbformat": 4,
 "nbformat_minor": 2
}
